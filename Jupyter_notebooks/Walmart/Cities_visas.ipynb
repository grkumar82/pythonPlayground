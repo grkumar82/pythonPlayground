{
 "cells": [
  {
   "cell_type": "code",
   "execution_count": null,
   "id": "c8159ac4",
   "metadata": {},
   "outputs": [],
   "source": [
    "\"\"\"\n",
    "1. Using the data_sample data set provided, put the airline carriers in order from most used to least used.\n",
    "2. Which visa type category has the most and least arrivals to the U.S.?\n",
    "3.Using the cities-us dataset, which state has the most cities?\n",
    "\"\"\""
   ]
  },
  {
   "cell_type": "code",
   "execution_count": 1,
   "id": "efab9c58",
   "metadata": {},
   "outputs": [],
   "source": [
    "from pyspark.sql import *\n",
    "from pyspark.sql.types import *\n",
    "from pyspark.sql.functions import *"
   ]
  },
  {
   "cell_type": "code",
   "execution_count": 3,
   "id": "afcfa8d4",
   "metadata": {},
   "outputs": [
    {
     "name": "stderr",
     "output_type": "stream",
     "text": [
      "23/05/15 15:55:46 WARN Utils: Your hostname, Ravis-MacBook-Pro.local resolves to a loopback address: 127.0.0.1; using 192.168.6.23 instead (on interface en0)\n",
      "23/05/15 15:55:46 WARN Utils: Set SPARK_LOCAL_IP if you need to bind to another address\n",
      "Setting default log level to \"WARN\".\n",
      "To adjust logging level use sc.setLogLevel(newLevel). For SparkR, use setLogLevel(newLevel).\n",
      "23/05/15 15:55:47 WARN NativeCodeLoader: Unable to load native-hadoop library for your platform... using builtin-java classes where applicable\n",
      "23/05/15 15:55:47 WARN Utils: Service 'SparkUI' could not bind on port 4040. Attempting port 4041.\n"
     ]
    }
   ],
   "source": [
    "spark = SparkSession.builder.appName(\"cities_visas\").getOrCreate()"
   ]
  },
  {
   "cell_type": "code",
   "execution_count": 5,
   "id": "194ee081",
   "metadata": {},
   "outputs": [],
   "source": [
    "airlines_df = spark.read.format(\"csv\") \\\n",
    "            .option(\"header\", \"true\") \\\n",
    "            .option(\"inferSchema\", \"true\") \\\n",
    "            .option(\"ignoreLeadingWhiteSpace\", True) \\\n",
    "            .load(\"data_sample.csv\")\n"
   ]
  },
  {
   "cell_type": "code",
   "execution_count": 6,
   "id": "5481f028",
   "metadata": {},
   "outputs": [],
   "source": [
    "cities_df = spark.read.format(\"csv\") \\\n",
    "            .option(\"header\", \"true\") \\\n",
    "            .option(\"inferSchema\", \"true\") \\\n",
    "            .load(\"cities-us.csv\")"
   ]
  },
  {
   "cell_type": "code",
   "execution_count": 10,
   "id": "b28a5bd9",
   "metadata": {},
   "outputs": [],
   "source": [
    "def removeDuplicates(df):\n",
    "    dup_count = df.count()\n",
    "    no_dup_count = df.distinct().count()\n",
    "    diff = dup_count - no_dup_count\n",
    "    if diff:\n",
    "        print(f\"dataframe has duplicates, count of duplicates is {diff}. Dropping these duplicates\")\n",
    "        return df.dropDuplicates()\n",
    "    else:\n",
    "        print(\"no duplicates\")\n",
    "        return df"
   ]
  },
  {
   "cell_type": "code",
   "execution_count": 11,
   "id": "98c4c979",
   "metadata": {},
   "outputs": [],
   "source": [
    "# drop unnamed columns in the dataset\n",
    "airlines_df = airlines_df.drop(col(\"_c0\"))"
   ]
  },
  {
   "cell_type": "code",
   "execution_count": 12,
   "id": "635462cb",
   "metadata": {},
   "outputs": [
    {
     "name": "stderr",
     "output_type": "stream",
     "text": [
      "23/05/15 16:05:31 WARN package: Truncated the string representation of a plan since it was too large. This behavior can be adjusted by setting 'spark.sql.debug.maxToStringFields'.\n",
      "[Stage 9:>                                                          (0 + 1) / 1]\r"
     ]
    },
    {
     "name": "stdout",
     "output_type": "stream",
     "text": [
      "no duplicates\n"
     ]
    },
    {
     "name": "stderr",
     "output_type": "stream",
     "text": [
      "                                                                                \r"
     ]
    }
   ],
   "source": [
    "# drop duplicates from the dataset\n",
    "airlines_df = removeDuplicates(airlines_df)"
   ]
  },
  {
   "cell_type": "code",
   "execution_count": 14,
   "id": "a54033b5",
   "metadata": {},
   "outputs": [],
   "source": [
    "# Airline Carriers in order from most used to least\n",
    "airlineUsage = airlines_df.groupBy(\"airline\").agg(count(\"airline\").alias(\"count\"))"
   ]
  },
  {
   "cell_type": "code",
   "execution_count": 15,
   "id": "74ca0197",
   "metadata": {},
   "outputs": [
    {
     "name": "stdout",
     "output_type": "stream",
     "text": [
      "+-------+-----+\n",
      "|airline|count|\n",
      "+-------+-----+\n",
      "|     AA|  109|\n",
      "|     UA|   84|\n",
      "|     DL|   77|\n",
      "|     BA|   53|\n",
      "|     LH|   45|\n",
      "|     VS|   43|\n",
      "|     JL|   24|\n",
      "|     KE|   21|\n",
      "|     AF|   21|\n",
      "|     KL|   19|\n",
      "|     EK|   19|\n",
      "|     Y4|   19|\n",
      "|     SK|   18|\n",
      "|     AV|   17|\n",
      "|     QF|   17|\n",
      "|     AM|   16|\n",
      "|     QR|   15|\n",
      "|     NZ|   12|\n",
      "|     OZ|   12|\n",
      "|     NH|   11|\n",
      "|     DY|   11|\n",
      "|     CM|   11|\n",
      "|     HA|   11|\n",
      "|     EI|   11|\n",
      "|     TK|   11|\n",
      "|     LA|   10|\n",
      "|     SU|   10|\n",
      "|     LX|   10|\n",
      "|     BR|   10|\n",
      "|     MU|   10|\n",
      "|     AR|    9|\n",
      "|     AD|    8|\n",
      "|     AB|    8|\n",
      "|     IB|    7|\n",
      "|     JJ|    7|\n",
      "|     B6|    7|\n",
      "|     CX|    7|\n",
      "|     7C|    7|\n",
      "|     CA|    7|\n",
      "|     BW|    5|\n",
      "|    VES|    5|\n",
      "|     AI|    5|\n",
      "|     WN|    5|\n",
      "|     CI|    4|\n",
      "|     NK|    4|\n",
      "|     AY|    4|\n",
      "|     EQ|    4|\n",
      "|     LJ|    4|\n",
      "|     SE|    4|\n",
      "|    *GA|    4|\n",
      "|     JQ|    4|\n",
      "|     SQ|    4|\n",
      "|     FI|    3|\n",
      "|     AZ|    3|\n",
      "|     4O|    3|\n",
      "|     EV|    3|\n",
      "|     SV|    3|\n",
      "|     3U|    3|\n",
      "|     MT|    3|\n",
      "|     S3|    3|\n",
      "|     2D|    3|\n",
      "|     YX|    3|\n",
      "|     TB|    2|\n",
      "|     CZ|    2|\n",
      "|     TW|    2|\n",
      "|     LY|    2|\n",
      "|     TP|    2|\n",
      "|     KX|    2|\n",
      "|     RS|    2|\n",
      "|     MS|    2|\n",
      "|    TOM|    2|\n",
      "|     4M|    2|\n",
      "|     UX|    2|\n",
      "|     EY|    2|\n",
      "|     KU|    2|\n",
      "|     SN|    2|\n",
      "|     CP|    2|\n",
      "|     HU|    2|\n",
      "|     RV|    2|\n",
      "|     PR|    2|\n",
      "|     AT|    1|\n",
      "|    SWQ|    1|\n",
      "|     VA|    1|\n",
      "|     BX|    1|\n",
      "|     ZX|    1|\n",
      "|     PY|    1|\n",
      "|     NQ|    1|\n",
      "|     MQ|    1|\n",
      "|     UP|    1|\n",
      "|    ARU|    1|\n",
      "|     FJ|    1|\n",
      "|     WS|    1|\n",
      "|     LO|    1|\n",
      "|     OS|    1|\n",
      "|     5J|    1|\n",
      "|     W3|    1|\n",
      "|     7I|    1|\n",
      "|     9V|    1|\n",
      "|     WK|    1|\n",
      "|     BB|    1|\n",
      "|     9E|    1|\n",
      "|   null|    0|\n",
      "+-------+-----+\n",
      "\n"
     ]
    }
   ],
   "source": [
    "airlineUsage.orderBy(desc(\"count\")).show(airlineUsage.count())"
   ]
  },
  {
   "cell_type": "code",
   "execution_count": 17,
   "id": "e3b8bcb4",
   "metadata": {},
   "outputs": [
    {
     "name": "stdout",
     "output_type": "stream",
     "text": [
      "+--------+------------+\n",
      "|visatype|arrivalCount|\n",
      "+--------+------------+\n",
      "|      WT|         443|\n",
      "|      B2|         356|\n",
      "|      WB|          91|\n",
      "|      B1|          61|\n",
      "|     GMT|          27|\n",
      "|      F1|          10|\n",
      "|      CP|           5|\n",
      "|      F2|           3|\n",
      "|      E2|           3|\n",
      "|      M1|           1|\n",
      "+--------+------------+\n",
      "\n"
     ]
    }
   ],
   "source": [
    "# visa with most and least arrivals to USA\n",
    "airlines_df.groupBy(\"visatype\").agg(count(\"cicid\").alias(\"arrivalCount\")).orderBy(desc(\"arrivalCount\")).show()"
   ]
  },
  {
   "cell_type": "code",
   "execution_count": 31,
   "id": "4fa576f2",
   "metadata": {},
   "outputs": [],
   "source": [
    "# remove footer\n",
    "cities_df = cities_df.limit(cities_df.count() - 1)"
   ]
  },
  {
   "cell_type": "code",
   "execution_count": 32,
   "id": "a0fb54ea",
   "metadata": {},
   "outputs": [
    {
     "name": "stdout",
     "output_type": "stream",
     "text": [
      "no duplicates\n"
     ]
    }
   ],
   "source": [
    "cities_df = removeDuplicates(cities_df)"
   ]
  },
  {
   "cell_type": "code",
   "execution_count": 33,
   "id": "89a6ac78",
   "metadata": {},
   "outputs": [],
   "source": [
    "cities_df = cities_df.withColumnRenamed(\"SR.No\", \"SerialNum\")"
   ]
  },
  {
   "cell_type": "code",
   "execution_count": 34,
   "id": "663d53b7",
   "metadata": {},
   "outputs": [],
   "source": [
    "# Drop columns with null in primary key\n",
    "cities = cities_df.na.drop(subset=[\"SerialNum\"])"
   ]
  },
  {
   "cell_type": "code",
   "execution_count": 35,
   "id": "a0f2a8d1",
   "metadata": {},
   "outputs": [
    {
     "name": "stdout",
     "output_type": "stream",
     "text": [
      "+---------+-------------+--------------+-------------+-----------+--------------+-----------------------+------------------+\n",
      "|SerialNum|         City|         State|2012 estimate|2010 Census|2010 land area|2010 population density|          Location|\n",
      "+---------+-------------+--------------+-------------+-----------+--------------+-----------------------+------------------+\n",
      "|        1|     New York|      New York|    83,36,697|  81,75,133| 302.643�sq�mi|       27,012�per�sq�mi| 40.6643N 73.9385W|\n",
      "|        2|  Los Angeles|    California|    38,57,799|  37,92,621| 468.670�sq�mi|        8,092�per�sq�mi|34.0194N 118.4108W|\n",
      "|        3|      Chicago|      Illinois|    27,14,856|  26,95,598| 227.635�sq�mi|       11,842�per�sq�mi| 41.8376N 87.6818W|\n",
      "|        4|      Houston|         Texas|    21,60,821|  21,00,263| 599.589�sq�mi|        3,501�per�sq�mi| 29.7805N 95.3863W|\n",
      "|        5| Philadelphia|  Pennsylvania|    15,47,607|  15,26,006| 134.101�sq�mi|       11,379�per�sq�mi| 40.0094N 75.1333W|\n",
      "|        6|      Phoenix|       Arizona|    14,88,750|  14,45,632| 516.704�sq�mi|        2,798�per�sq�mi|33.5722N 112.0880W|\n",
      "|        7|  San Antonio|         Texas|    13,82,951|  13,27,407| 460.933�sq�mi|        2,880�per�sq�mi| 29.4724N 98.5251W|\n",
      "|        8|    San Diego|    California|    13,38,348|  13,07,402| 325.188�sq�mi|        4,020�per�sq�mi|32.8153N 117.1350W|\n",
      "|        9|       Dallas|         Texas|    12,41,162|  11,97,816| 340.519�sq�mi|        3,518�per�sq�mi| 32.7757N 96.7967W|\n",
      "|       10|     San Jose|    California|     9,82,765|   9,45,942| 176.526�sq�mi|        5,359�per�sq�mi|37.2969N 121.8193W|\n",
      "|       11|       Austin|         Texas|     8,42,592|   7,90,390| 297.896�sq�mi|        2,653�per�sq�mi| 30.3072N 97.7560W|\n",
      "|       12| Jacksonville|       Florida|     8,36,507|   8,21,784| 747.003�sq�mi|        1,100�per�sq�mi| 30.3370N 81.6613W|\n",
      "|       13| Indianapolis|       Indiana|     8,34,852|   8,20,445| 361.433�sq�mi|        2,270�per�sq�mi| 39.7767N 86.1459W|\n",
      "|       14|San Francisco|    California|     8,25,863|   8,05,235|  46.873�sq�mi|       17,179�per�sq�mi|37.7751N 122.4193W|\n",
      "|       15|     Columbus|          Ohio|     8,09,798|   7,87,033| 217.169�sq�mi|        3,624�per�sq�mi| 39.9848N 82.9850W|\n",
      "|       16|   Fort Worth|         Texas|     7,77,992|   7,41,206| 339.819�sq�mi|        2,181�per�sq�mi| 32.7795N 97.3463W|\n",
      "|       17|    Charlotte|North Carolina|     7,75,202|   7,31,424| 297.678�sq�mi|        2,457�per�sq�mi| 35.2087N 80.8307W|\n",
      "|       18|      Detroit|      Michigan|     7,01,475|   7,13,777| 138.750�sq�mi|        5,144�per�sq�mi| 42.3830N 83.1022W|\n",
      "|       19|      El Paso|         Texas|     6,72,538|   6,49,121| 255.235�sq�mi|        2,543�per�sq�mi|31.8484N 106.4270W|\n",
      "|       20|      Memphis|     Tennessee|     6,55,155|   6,46,889| 315.055�sq�mi|        2,053�per�sq�mi| 35.1035N 89.9785W|\n",
      "+---------+-------------+--------------+-------------+-----------+--------------+-----------------------+------------------+\n",
      "only showing top 20 rows\n",
      "\n"
     ]
    }
   ],
   "source": [
    "cities.show()"
   ]
  },
  {
   "cell_type": "code",
   "execution_count": 38,
   "id": "be23680f",
   "metadata": {},
   "outputs": [
    {
     "name": "stdout",
     "output_type": "stream",
     "text": [
      "+--------------------+-----+\n",
      "|               State|count|\n",
      "+--------------------+-----+\n",
      "|            New York|    5|\n",
      "|          California|   69|\n",
      "|            Illinois|    8|\n",
      "|               Texas|   32|\n",
      "|        Pennsylvania|    4|\n",
      "|             Arizona|   10|\n",
      "|             Florida|   20|\n",
      "|             Indiana|    4|\n",
      "|                Ohio|    6|\n",
      "|      North Carolina|    9|\n",
      "|            Michigan|    7|\n",
      "|           Tennessee|    6|\n",
      "|       Massachusetts|    5|\n",
      "|          Washington|    7|\n",
      "|            Colorado|   11|\n",
      "|District of Columbia|    1|\n",
      "|            Maryland|    1|\n",
      "|            Kentucky|    2|\n",
      "|              Oregon|    4|\n",
      "|            Oklahoma|    4|\n",
      "+--------------------+-----+\n",
      "only showing top 20 rows\n",
      "\n"
     ]
    }
   ],
   "source": [
    "grouped_df = cities.groupBy(\"State\").agg(count(\"City\").alias(\"count\"))\n",
    "grouped_df.show()"
   ]
  },
  {
   "cell_type": "code",
   "execution_count": 39,
   "id": "8933b392",
   "metadata": {},
   "outputs": [
    {
     "name": "stdout",
     "output_type": "stream",
     "text": [
      "***** Highest number of cities *****\n",
      "+----------+-----+\n",
      "|     State|count|\n",
      "+----------+-----+\n",
      "|California|   69|\n",
      "+----------+-----+\n",
      "\n"
     ]
    }
   ],
   "source": [
    "print(f\"***** Highest number of cities *****\")\n",
    "grouped_df.orderBy(desc(col(\"count\"))).limit(1).show()"
   ]
  },
  {
   "cell_type": "code",
   "execution_count": null,
   "id": "a333b497",
   "metadata": {},
   "outputs": [],
   "source": []
  }
 ],
 "metadata": {
  "kernelspec": {
   "display_name": "Python 3 (ipykernel)",
   "language": "python",
   "name": "python3"
  },
  "language_info": {
   "codemirror_mode": {
    "name": "ipython",
    "version": 3
   },
   "file_extension": ".py",
   "mimetype": "text/x-python",
   "name": "python",
   "nbconvert_exporter": "python",
   "pygments_lexer": "ipython3",
   "version": "3.11.3"
  }
 },
 "nbformat": 4,
 "nbformat_minor": 5
}
