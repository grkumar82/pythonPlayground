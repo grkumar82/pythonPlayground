{
 "cells": [
  {
   "cell_type": "code",
   "execution_count": 1,
   "id": "d36c93c4",
   "metadata": {},
   "outputs": [],
   "source": [
    "from pyspark.sql import *\n",
    "from pyspark.sql.types import *\n",
    "from pyspark.sql.functions import *\n",
    "from pyspark.sql import functions as F\n",
    "from pyspark.sql.window import Window\n",
    "from numpy as np"
   ]
  },
  {
   "cell_type": "code",
   "execution_count": 3,
   "id": "b43bae77",
   "metadata": {},
   "outputs": [
    {
     "name": "stderr",
     "output_type": "stream",
     "text": [
      "23/05/16 10:23:20 WARN SparkSession: Using an existing Spark session; only runtime SQL configurations will take effect.\n"
     ]
    }
   ],
   "source": [
    "spark = SparkSession.builder.appName(\"notion\").getOrCreate()"
   ]
  },
  {
   "cell_type": "code",
   "execution_count": 6,
   "id": "7f1515d4",
   "metadata": {},
   "outputs": [],
   "source": [
    "file_name = \"books.csv\"\n",
    "books_df = spark.read.format(\"csv\").option(\"inferSchema\", \"true\").option(\"header\", \"true\").load(file_name)"
   ]
  },
  {
   "cell_type": "code",
   "execution_count": 7,
   "id": "ecbced47",
   "metadata": {},
   "outputs": [
    {
     "data": {
      "text/plain": [
       "11127"
      ]
     },
     "execution_count": 7,
     "metadata": {},
     "output_type": "execute_result"
    }
   ],
   "source": [
    "books_df.count()"
   ]
  },
  {
   "cell_type": "code",
   "execution_count": 8,
   "id": "aeb14e31",
   "metadata": {},
   "outputs": [
    {
     "name": "stdout",
     "output_type": "stream",
     "text": [
      "root\n",
      " |-- num_pages: string (nullable = true)\n",
      " |-- authors: string (nullable = true)\n",
      " |-- average_rating: string (nullable = true)\n",
      " |-- bookID: integer (nullable = true)\n",
      " |-- isbn: string (nullable = true)\n",
      " |-- isbn13: string (nullable = true)\n",
      " |-- language_code: string (nullable = true)\n",
      " |-- publication_date: string (nullable = true)\n",
      " |-- publisher: string (nullable = true)\n",
      " |-- ratings_count: integer (nullable = true)\n",
      " |-- text_reviews_count: integer (nullable = true)\n",
      " |-- title: string (nullable = true)\n",
      "\n"
     ]
    }
   ],
   "source": [
    "books_df.printSchema()"
   ]
  },
  {
   "cell_type": "code",
   "execution_count": null,
   "id": "4863155d",
   "metadata": {},
   "outputs": [],
   "source": [
    "# deduping\n",
    "def dedup(df):\n",
    "    dup_cnt, no_dup_cnt = books_df.count(), books_df.distinct().count()\n",
    "    diff = dup_cnt - no_dup_cnt\n",
    "    if diff:\n",
    "        return df.dropDuplicates()\n",
    "    else:\n",
    "        df\n",
    "new_df = dedup(books_df)"
   ]
  },
  {
   "cell_type": "code",
   "execution_count": null,
   "id": "d39c2d45",
   "metadata": {},
   "outputs": [],
   "source": [
    "# How many total books are present in the database?"
   ]
  },
  {
   "cell_type": "code",
   "execution_count": 22,
   "id": "737b604f",
   "metadata": {},
   "outputs": [],
   "source": [
    "books_df.createOrReplaceTempView(\"books\")"
   ]
  },
  {
   "cell_type": "code",
   "execution_count": 29,
   "id": "bb9eba9e",
   "metadata": {
    "scrolled": true
   },
   "outputs": [
    {
     "name": "stdout",
     "output_type": "stream",
     "text": [
      "+---------+\n",
      "|books_cnt|\n",
      "+---------+\n",
      "|    11127|\n",
      "+---------+\n",
      "\n"
     ]
    }
   ],
   "source": [
    "# dedeuping rows\n",
    "query = spark.sql(f\"\"\"\n",
    "WITH CTE AS\n",
    "(\n",
    "SELECT \n",
    "bookID,\n",
    "RANK() OVER (PARTITION BY bookID ORDER BY publication_date) as rnk\n",
    "FROM books\n",
    ")\n",
    "\n",
    "SELECT COUNT(DISTINCT bookID) AS books_cnt \n",
    "FROM CTE WHERE rnk = 1\n",
    "\"\"\")\n",
    "query.show()"
   ]
  },
  {
   "cell_type": "code",
   "execution_count": null,
   "id": "e20071e2",
   "metadata": {},
   "outputs": [],
   "source": [
    "# How many books did each author release every year? Please note that the authors field may contain multiple authors."
   ]
  },
  {
   "cell_type": "code",
   "execution_count": 32,
   "id": "bfc3be62",
   "metadata": {},
   "outputs": [
    {
     "name": "stdout",
     "output_type": "stream",
     "text": [
      "+--------------------+\n",
      "|             authors|\n",
      "+--------------------+\n",
      "|          James Frey|\n",
      "|Giorgio De Santil...|\n",
      "|     Eric Klinenberg|\n",
      "|     Karen Armstrong|\n",
      "|Andy Hunt/Dave Th...|\n",
      "|Judi Barrett/Ron ...|\n",
      "|Louis-Ferdinand C...|\n",
      "|Albert Einstein/H...|\n",
      "|Leo Tolstoy/Const...|\n",
      "|Jonathan Clements...|\n",
      "|         Ann Rinaldi|\n",
      "|          Dava Sobel|\n",
      "|Hildegarde Hoyt S...|\n",
      "|         Ann Beattie|\n",
      "|Gardner Dozois/Ge...|\n",
      "|Grant Morrison/St...|\n",
      "|Albert Jack/Ann Page|\n",
      "|Wendy  Mitchell/J...|\n",
      "|William Shakespea...|\n",
      "|Satoru Kannagi/Ho...|\n",
      "+--------------------+\n",
      "only showing top 20 rows\n",
      "\n"
     ]
    }
   ],
   "source": [
    "query = spark.sql(f\"\"\"\n",
    "SELECT \n",
    "DISTINCT authors\n",
    "FROM books\n",
    "LIMIT 100\n",
    "\"\"\")\n",
    "query.show()"
   ]
  },
  {
   "cell_type": "code",
   "execution_count": 60,
   "id": "0dfeaf45",
   "metadata": {},
   "outputs": [
    {
     "name": "stdout",
     "output_type": "stream",
     "text": [
      "+--------------------+------+----------------+--------------------+\n",
      "|             authors|bookID|publication_date|              author|\n",
      "+--------------------+------+----------------+--------------------+\n",
      "|J.K. Rowling/Mary...|     1|       9/16/2006|        J.K. Rowling|\n",
      "|J.K. Rowling/Mary...|     1|       9/16/2006|       Mary GrandPré|\n",
      "|J.K. Rowling/Mary...|     2|        9/1/2004|        J.K. Rowling|\n",
      "|J.K. Rowling/Mary...|     2|        9/1/2004|       Mary GrandPré|\n",
      "|        J.K. Rowling|     4|       11/1/2003|        J.K. Rowling|\n",
      "|J.K. Rowling/Mary...|     5|        5/1/2004|        J.K. Rowling|\n",
      "|J.K. Rowling/Mary...|     5|        5/1/2004|       Mary GrandPré|\n",
      "|J.K. Rowling/Mary...|     8|       9/13/2004|        J.K. Rowling|\n",
      "|J.K. Rowling/Mary...|     8|       9/13/2004|       Mary GrandPré|\n",
      "|W. Frederick Zimm...|     9|       4/26/2005|W. Frederick Zimm...|\n",
      "|        J.K. Rowling|    10|       9/12/2005|        J.K. Rowling|\n",
      "|       Douglas Adams|    12|       11/1/2005|       Douglas Adams|\n",
      "|       Douglas Adams|    13|       4/30/2002|       Douglas Adams|\n",
      "|       Douglas Adams|    14|        8/3/2004|       Douglas Adams|\n",
      "|Douglas Adams/Ste...|    16|       3/23/2005|       Douglas Adams|\n",
      "|Douglas Adams/Ste...|    16|       3/23/2005|         Stephen Fry|\n",
      "|       Douglas Adams|    18|       1/17/1996|       Douglas Adams|\n",
      "|         Bill Bryson|    21|       9/14/2004|         Bill Bryson|\n",
      "|         Bill Bryson|    22|       12/3/2002|         Bill Bryson|\n",
      "|         Bill Bryson|    23|       9/14/2004|         Bill Bryson|\n",
      "+--------------------+------+----------------+--------------------+\n",
      "only showing top 20 rows\n",
      "\n"
     ]
    }
   ],
   "source": [
    "df = books_df.select(books_df['authors'], books_df['bookID'], books_df['publication_date'], explode(split(books_df['authors'], '/')).alias('author'))\n",
    "df.show()\n",
    "\n"
   ]
  },
  {
   "cell_type": "code",
   "execution_count": 63,
   "id": "7aadd5dc",
   "metadata": {},
   "outputs": [],
   "source": [
    "df.createOrReplaceTempView(\"authors\")"
   ]
  },
  {
   "cell_type": "code",
   "execution_count": 70,
   "id": "42bf32e4",
   "metadata": {},
   "outputs": [
    {
     "name": "stdout",
     "output_type": "stream",
     "text": [
      "+------------+--------+---------+\n",
      "|      author|pub_year|books_cnt|\n",
      "+------------+--------+---------+\n",
      "|Stephen King|    2001|        8|\n",
      "|Stephen King|    1984|        1|\n",
      "|Stephen King|    1990|        1|\n",
      "|Stephen King|    1992|        3|\n",
      "|Stephen King|    1987|        2|\n",
      "|Stephen King|    2002|       13|\n",
      "|Stephen King|    1994|        1|\n",
      "|Stephen King|    1991|        1|\n",
      "|Stephen King|    1999|        7|\n",
      "|Stephen King|    1995|        2|\n",
      "|Stephen King|    1976|        2|\n",
      "|Stephen King|    1980|        1|\n",
      "|Stephen King|    1988|        1|\n",
      "|Stephen King|    1979|        2|\n",
      "|Stephen King|    2005|        9|\n",
      "|Stephen King|    1975|        1|\n",
      "|Stephen King|    2010|        1|\n",
      "|Stephen King|    2006|        8|\n",
      "|Stephen King|    2000|        4|\n",
      "|Stephen King|    1997|        1|\n",
      "+------------+--------+---------+\n",
      "only showing top 20 rows\n",
      "\n"
     ]
    }
   ],
   "source": [
    "authors = spark.sql(f\"\"\"\n",
    "SELECT \n",
    "DISTINCT \n",
    "author,\n",
    "SPLIT(publication_date, '/')[2] as pub_year,\n",
    "COUNT(DISTINCT bookID) as books_cnt\n",
    "FROM authors\n",
    "WHERE author = 'Stephen King'\n",
    "GROUP BY 1,2\n",
    "\"\"\")\n",
    "# authors.show(truncate=False)\n",
    "authors.show()"
   ]
  },
  {
   "cell_type": "code",
   "execution_count": null,
   "id": "ccd62066",
   "metadata": {},
   "outputs": [],
   "source": [
    "# Which individual authors released the largest number of books overall? \n",
    "# Your response should cover cases where there might be multiple authors who released the same maximum book count."
   ]
  },
  {
   "cell_type": "code",
   "execution_count": 69,
   "id": "adaefeeb",
   "metadata": {},
   "outputs": [
    {
     "name": "stderr",
     "output_type": "stream",
     "text": [
      "23/05/16 13:02:43 WARN WindowExec: No Partition Defined for Window operation! Moving all data to a single partition, this can cause serious performance degradation.\n",
      "23/05/16 13:02:43 WARN WindowExec: No Partition Defined for Window operation! Moving all data to a single partition, this can cause serious performance degradation.\n",
      "23/05/16 13:02:43 WARN WindowExec: No Partition Defined for Window operation! Moving all data to a single partition, this can cause serious performance degradation.\n",
      "23/05/16 13:02:43 WARN WindowExec: No Partition Defined for Window operation! Moving all data to a single partition, this can cause serious performance degradation.\n",
      "23/05/16 13:02:43 WARN WindowExec: No Partition Defined for Window operation! Moving all data to a single partition, this can cause serious performance degradation.\n",
      "23/05/16 13:02:44 WARN WindowExec: No Partition Defined for Window operation! Moving all data to a single partition, this can cause serious performance degradation.\n",
      "23/05/16 13:02:44 WARN WindowExec: No Partition Defined for Window operation! Moving all data to a single partition, this can cause serious performance degradation.\n",
      "23/05/16 13:02:44 WARN WindowExec: No Partition Defined for Window operation! Moving all data to a single partition, this can cause serious performance degradation.\n",
      "23/05/16 13:02:44 WARN WindowExec: No Partition Defined for Window operation! Moving all data to a single partition, this can cause serious performance degradation.\n"
     ]
    },
    {
     "name": "stdout",
     "output_type": "stream",
     "text": [
      "+------------+\n",
      "|      author|\n",
      "+------------+\n",
      "|Stephen King|\n",
      "+------------+\n",
      "\n"
     ]
    }
   ],
   "source": [
    "max_authors = spark.sql(f\"\"\"\n",
    "SELECT\n",
    "author\n",
    "FROM \n",
    "(\n",
    "SELECT \n",
    "DISTINCT \n",
    "author,\n",
    "DENSE_RANK() OVER (ORDER BY COUNT(DISTINCT bookID) DESC) as books_cnt_rnk\n",
    "FROM authors\n",
    "GROUP BY 1\n",
    ")\n",
    "WHERE books_cnt_rnk = 1\n",
    "\"\"\")\n",
    "max_authors.show()"
   ]
  },
  {
   "cell_type": "code",
   "execution_count": null,
   "id": "f08ee36b",
   "metadata": {},
   "outputs": [],
   "source": [
    "max_authors_ = spark.sql(f\"\"\"\n",
    "SELECT\n",
    "author,\n",
    "books_cnt\n",
    "FROM \n",
    "(\n",
    "SELECT \n",
    "DISTINCT \n",
    "author,\n",
    "COUNT(DISTINCT bookID) AS books_cnt\n",
    "FROM authors\n",
    "GROUP BY 1\n",
    ")\n",
    "WHERE books_cnt_rnk = 1\n",
    "\"\"\")\n",
    "max_authors.show()"
   ]
  }
 ],
 "metadata": {
  "kernelspec": {
   "display_name": "Python 3 (ipykernel)",
   "language": "python",
   "name": "python3"
  },
  "language_info": {
   "codemirror_mode": {
    "name": "ipython",
    "version": 3
   },
   "file_extension": ".py",
   "mimetype": "text/x-python",
   "name": "python",
   "nbconvert_exporter": "python",
   "pygments_lexer": "ipython3",
   "version": "3.11.3"
  }
 },
 "nbformat": 4,
 "nbformat_minor": 5
}
