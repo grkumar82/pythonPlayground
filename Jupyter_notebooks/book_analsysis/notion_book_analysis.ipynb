{
 "cells": [
  {
   "cell_type": "code",
   "execution_count": 4,
   "id": "d2de0a15",
   "metadata": {},
   "outputs": [],
   "source": [
    "from pyspark.sql import *"
   ]
  },
  {
   "cell_type": "code",
   "execution_count": 5,
   "id": "529cfa73",
   "metadata": {},
   "outputs": [],
   "source": [
    "from pyspark.sql.functions import *"
   ]
  },
  {
   "cell_type": "code",
   "execution_count": 88,
   "id": "603936db",
   "metadata": {},
   "outputs": [],
   "source": [
    "from pyspark.sql.window import *"
   ]
  },
  {
   "cell_type": "code",
   "execution_count": null,
   "id": "1a5c418a",
   "metadata": {},
   "outputs": [],
   "source": [
    "spark = SparkSession.builder.appName(\"analysis\").getOrCreate()"
   ]
  },
  {
   "cell_type": "code",
   "execution_count": 76,
   "id": "ec52aeb3",
   "metadata": {},
   "outputs": [],
   "source": [
    "books_df = spark.read.csv(\"books.csv\", header=True, inferSchema=True)"
   ]
  },
  {
   "cell_type": "code",
   "execution_count": 77,
   "id": "810e2cb8",
   "metadata": {},
   "outputs": [
    {
     "data": {
      "text/plain": [
       "11127"
      ]
     },
     "execution_count": 77,
     "metadata": {},
     "output_type": "execute_result"
    }
   ],
   "source": [
    "books_df.count()"
   ]
  },
  {
   "cell_type": "code",
   "execution_count": 78,
   "id": "15275285",
   "metadata": {},
   "outputs": [
    {
     "name": "stdout",
     "output_type": "stream",
     "text": [
      "root\n",
      " |-- num_pages: string (nullable = true)\n",
      " |-- authors: string (nullable = true)\n",
      " |-- average_rating: string (nullable = true)\n",
      " |-- bookID: integer (nullable = true)\n",
      " |-- isbn: string (nullable = true)\n",
      " |-- isbn13: string (nullable = true)\n",
      " |-- language_code: string (nullable = true)\n",
      " |-- publication_date: string (nullable = true)\n",
      " |-- publisher: string (nullable = true)\n",
      " |-- ratings_count: integer (nullable = true)\n",
      " |-- text_reviews_count: integer (nullable = true)\n",
      " |-- title: string (nullable = true)\n",
      "\n"
     ]
    }
   ],
   "source": [
    "books_df.printSchema()"
   ]
  },
  {
   "cell_type": "code",
   "execution_count": 79,
   "id": "f5449207",
   "metadata": {},
   "outputs": [
    {
     "name": "stdout",
     "output_type": "stream",
     "text": [
      "+---------+-------+--------------+------+----+------+-------------+----------------+---------+-------------+------------------+-----+\n",
      "|num_pages|authors|average_rating|bookID|isbn|isbn13|language_code|publication_date|publisher|ratings_count|text_reviews_count|title|\n",
      "+---------+-------+--------------+------+----+------+-------------+----------------+---------+-------------+------------------+-----+\n",
      "|        0|      0|             0|     0|   0|     0|            0|               0|        0|            0|                 0|    0|\n",
      "+---------+-------+--------------+------+----+------+-------------+----------------+---------+-------------+------------------+-----+\n",
      "\n"
     ]
    }
   ],
   "source": [
    "# check if there are nulls in the dataset\n",
    "null_counts = books_df.agg(*[sum(col(c).isNull().cast(\"int\")).alias(c) for c in books_df.columns])\n",
    "null_counts.show()"
   ]
  },
  {
   "cell_type": "code",
   "execution_count": 80,
   "id": "2d2e5e0b",
   "metadata": {},
   "outputs": [
    {
     "name": "stdout",
     "output_type": "stream",
     "text": [
      "+----------+------------+------------+\n",
      "|isbn_total|isbn13_total|bookid_total|\n",
      "+----------+------------+------------+\n",
      "|     11127|       11127|       11127|\n",
      "+----------+------------+------------+\n",
      "\n"
     ]
    }
   ],
   "source": [
    "# identify if dataset has duplicate rows\n",
    "\n",
    "isbn_total = books_df.groupBy(\"isbn\").agg(count(\"*\").alias(\"isbn_cnt\")).selectExpr(\"sum(isbn_cnt) as isbn_total\")\n",
    "isbn13_total = books_df.groupBy(\"isbn13\").agg(count(\"*\").alias(\"isbn13_cnt\")).selectExpr(\"sum(isbn13_cnt) as isbn13_total\")\n",
    "bookid_total = books_df.groupBy(\"bookID\").agg(count(\"*\").alias(\"bookID_cnt\")).selectExpr(\"sum(bookID_cnt) as bookid_total\")\n",
    "\n",
    "result = isbn_total.crossJoin(isbn13_total).crossJoin(bookid_total)\n",
    "# Select the desired columns\n",
    "result.select(\"isbn_total\", \"isbn13_total\", \"bookid_total\").show()"
   ]
  },
  {
   "cell_type": "code",
   "execution_count": 81,
   "id": "57382344",
   "metadata": {},
   "outputs": [
    {
     "name": "stdout",
     "output_type": "stream",
     "text": [
      "+---------+\n",
      "|cnt_books|\n",
      "+---------+\n",
      "|    11127|\n",
      "+---------+\n",
      "\n"
     ]
    }
   ],
   "source": [
    "# How many total books are present in the database?\n",
    "books_cnt = books_df.agg(countDistinct(\"bookID\").alias(\"cnt_books\"))\n",
    "books_cnt.show()"
   ]
  },
  {
   "cell_type": "code",
   "execution_count": null,
   "id": "866017d7",
   "metadata": {},
   "outputs": [],
   "source": [
    "# How many books did each author release every year? Please note that the authors field may contain multiple authors."
   ]
  },
  {
   "cell_type": "code",
   "execution_count": 87,
   "id": "99b39a66",
   "metadata": {},
   "outputs": [
    {
     "name": "stdout",
     "output_type": "stream",
     "text": [
      "+--------------------+--------------+---------+\n",
      "|             authors|published_year|books_cnt|\n",
      "+--------------------+--------------+---------+\n",
      "|     E.L. Konigsburg|          2007|        1|\n",
      "|James Daley/Barac...|          2006|        1|\n",
      "|Lonely Planet/Sar...|          2004|        1|\n",
      "|Anonymous/Alfred ...|          2004|        1|\n",
      "|Rebecca J. Donatelle|          2006|        1|\n",
      "|Sherrilyn Kenyon/...|          2006|        1|\n",
      "|    Patricia Schultz|          2003|        1|\n",
      "|Dante Alighieri/D...|          1981|        1|\n",
      "|    Jayne Ann Krentz|          2004|        1|\n",
      "|        Linda Turner|          1989|        1|\n",
      "|J.R.R. Tolkien/Ch...|          2000|        2|\n",
      "|David Foster Wallace|          1998|        1|\n",
      "|     Terry Lee Rioux|          2005|        1|\n",
      "|       John Newhouse|          2007|        1|\n",
      "|          Pat Conroy|          2002|        2|\n",
      "|    David McCullough|          2004|        1|\n",
      "|        Shayla Black|          2007|        1|\n",
      "|    Alden T. Vaughan|          2019|        1|\n",
      "|       Kahlil Gibran|          2002|        1|\n",
      "|     Margaret Sidney|          2006|        1|\n",
      "+--------------------+--------------+---------+\n",
      "only showing top 20 rows\n",
      "\n"
     ]
    }
   ],
   "source": [
    "# not accounting for multiple authors within a single columns\n",
    "author_books_cnt = books_df.groupBy(\"authors\", split(\"publication_date\", \"/\")[2].alias(\"published_year\"))\\\n",
    ".agg(countDistinct(\"bookID\").alias(\"books_cnt\"))\\\n",
    ".select(\"authors\", \"published_year\", \"books_cnt\")\n",
    "\n",
    "author_books_cnt.show()"
   ]
  },
  {
   "cell_type": "code",
   "execution_count": 95,
   "id": "95318d8a",
   "metadata": {},
   "outputs": [
    {
     "name": "stdout",
     "output_type": "stream",
     "text": [
      "+--------------------+--------------+---------+\n",
      "|              author|published_year|books_cnt|\n",
      "+--------------------+--------------+---------+\n",
      "|       Alma Flor Ada|          2004|        1|\n",
      "|         Rachel Ryan|          2005|        1|\n",
      "|      Delba Winthrop|          2002|        1|\n",
      "|      Mary M. Flekke|          2006|        1|\n",
      "|     E.L. Konigsburg|          2007|        1|\n",
      "|         Larry Niven|          2004|        1|\n",
      "|       Jincy Willett|          2002|        1|\n",
      "|Rebecca J. Donatelle|          2006|        1|\n",
      "|           Dick Hill|          2005|        4|\n",
      "|       Howard Massey|          2007|        1|\n",
      "|     Henning Mankell|          2004|        1|\n",
      "|         Rosie Daley|          1994|        1|\n",
      "|    Patricia Schultz|          2003|        1|\n",
      "|        Janice Horne|          1971|        1|\n",
      "|    Jayne Ann Krentz|          2004|        2|\n",
      "|        Linda Turner|          1989|        1|\n",
      "| Christiane Northrup|          2001|        1|\n",
      "|      Kevin O'Malley|          2005|        1|\n",
      "|David Foster Wallace|          1998|        1|\n",
      "|Stefan R. Dziemia...|          1992|        1|\n",
      "+--------------------+--------------+---------+\n",
      "only showing top 20 rows\n",
      "\n"
     ]
    }
   ],
   "source": [
    "# How many books did each author release every year? Please note that the authors field may contain multiple authors.\n",
    "# account for multiple authors within a single columns\n",
    "individual_books_df = books_df.select(explode(split(books_df['authors'], '/')).alias(\"author\"), split(books_df['publication_date'], '/')[2].alias(\"published_year\"), books_df['bookId'])\n",
    "# individual_books_df.show()\n",
    "individual_author_cnt = individual_books_df.groupBy(\"author\", \"published_year\")\\\n",
    ".agg(countDistinct(\"bookID\").alias(\"books_cnt\"))\\\n",
    ".select(\"author\", \"published_year\", \"books_cnt\")\n",
    "\n",
    "individual_author_cnt.show()"
   ]
  },
  {
   "cell_type": "code",
   "execution_count": 126,
   "id": "bd588392",
   "metadata": {},
   "outputs": [
    {
     "name": "stderr",
     "output_type": "stream",
     "text": [
      "23/05/26 15:48:04 WARN WindowExec: No Partition Defined for Window operation! Moving all data to a single partition, this can cause serious performance degradation.\n",
      "23/05/26 15:48:04 WARN WindowExec: No Partition Defined for Window operation! Moving all data to a single partition, this can cause serious performance degradation.\n",
      "23/05/26 15:48:04 WARN WindowExec: No Partition Defined for Window operation! Moving all data to a single partition, this can cause serious performance degradation.\n",
      "23/05/26 15:48:05 WARN WindowExec: No Partition Defined for Window operation! Moving all data to a single partition, this can cause serious performance degradation.\n",
      "23/05/26 15:48:05 WARN WindowExec: No Partition Defined for Window operation! Moving all data to a single partition, this can cause serious performance degradation.\n",
      "23/05/26 15:48:05 WARN WindowExec: No Partition Defined for Window operation! Moving all data to a single partition, this can cause serious performance degradation.\n",
      "23/05/26 15:48:05 WARN WindowExec: No Partition Defined for Window operation! Moving all data to a single partition, this can cause serious performance degradation.\n",
      "23/05/26 15:48:05 WARN WindowExec: No Partition Defined for Window operation! Moving all data to a single partition, this can cause serious performance degradation.\n",
      "23/05/26 15:48:05 WARN WindowExec: No Partition Defined for Window operation! Moving all data to a single partition, this can cause serious performance degradation.\n"
     ]
    },
    {
     "name": "stdout",
     "output_type": "stream",
     "text": [
      "+------------+---------------+---------------+\n",
      "|      author|total_books_cnt|total_books_rnk|\n",
      "+------------+---------------+---------------+\n",
      "|Stephen King|             99|              1|\n",
      "+------------+---------------+---------------+\n",
      "\n"
     ]
    },
    {
     "name": "stderr",
     "output_type": "stream",
     "text": [
      "23/05/26 15:48:05 WARN WindowExec: No Partition Defined for Window operation! Moving all data to a single partition, this can cause serious performance degradation.\n",
      "23/05/26 15:48:05 WARN WindowExec: No Partition Defined for Window operation! Moving all data to a single partition, this can cause serious performance degradation.\n"
     ]
    }
   ],
   "source": [
    "subquery1 = individual_author_cnt.groupBy(\"author\")\\\n",
    ".agg(sum(\"books_cnt\").alias(\"total_books_cnt\"))\n",
    "\n",
    "query = subquery1.withColumn(\"total_books_rnk\", rank().over(Window.orderBy(subquery1.total_books_cnt.desc())))\n",
    "\n",
    "result = query.filter(query.total_books_rnk == 1)\n",
    "result.show()"
   ]
  },
  {
   "cell_type": "code",
   "execution_count": null,
   "id": "a0b1fc40",
   "metadata": {},
   "outputs": [],
   "source": []
  }
 ],
 "metadata": {
  "kernelspec": {
   "display_name": "Python 3 (ipykernel)",
   "language": "python",
   "name": "python3"
  },
  "language_info": {
   "codemirror_mode": {
    "name": "ipython",
    "version": 3
   },
   "file_extension": ".py",
   "mimetype": "text/x-python",
   "name": "python",
   "nbconvert_exporter": "python",
   "pygments_lexer": "ipython3",
   "version": "3.11.3"
  }
 },
 "nbformat": 4,
 "nbformat_minor": 5
}
