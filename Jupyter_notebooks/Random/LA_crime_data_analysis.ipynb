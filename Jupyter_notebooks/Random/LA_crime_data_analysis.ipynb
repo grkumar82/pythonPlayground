{
 "cells": [
  {
   "cell_type": "code",
   "execution_count": 1,
   "id": "726442c9",
   "metadata": {},
   "outputs": [],
   "source": [
    "# analyse LA crime data "
   ]
  },
  {
   "cell_type": "code",
   "execution_count": 1,
   "id": "177fd773",
   "metadata": {},
   "outputs": [],
   "source": [
    "from pyspark.sql import SparkSession\n",
    "from pyspark.sql.functions import *\n",
    "from pyspark.sql.window import *"
   ]
  },
  {
   "cell_type": "code",
   "execution_count": 2,
   "id": "2bcf09a9",
   "metadata": {},
   "outputs": [
    {
     "name": "stderr",
     "output_type": "stream",
     "text": [
      "23/05/30 17:49:18 WARN Utils: Your hostname, Ravis-MacBook-Pro.local resolves to a loopback address: 127.0.0.1; using 192.168.6.23 instead (on interface en0)\n",
      "23/05/30 17:49:18 WARN Utils: Set SPARK_LOCAL_IP if you need to bind to another address\n",
      "Setting default log level to \"WARN\".\n",
      "To adjust logging level use sc.setLogLevel(newLevel). For SparkR, use setLogLevel(newLevel).\n",
      "23/05/30 17:49:19 WARN NativeCodeLoader: Unable to load native-hadoop library for your platform... using builtin-java classes where applicable\n",
      "23/05/30 17:49:20 WARN Utils: Service 'SparkUI' could not bind on port 4040. Attempting port 4041.\n"
     ]
    }
   ],
   "source": [
    "spark = SparkSession.builder.config(\"spark.sql.legacy.timeParserPolicy\", \"LEGACY\").getOrCreate()"
   ]
  },
  {
   "cell_type": "code",
   "execution_count": 3,
   "id": "2c3ae46d",
   "metadata": {},
   "outputs": [
    {
     "name": "stderr",
     "output_type": "stream",
     "text": [
      "                                                                                \r"
     ]
    }
   ],
   "source": [
    "crime_df = spark.read.csv(\"la_crime_data.csv\", header=True, inferSchema=True)"
   ]
  },
  {
   "cell_type": "code",
   "execution_count": 4,
   "id": "218acb97",
   "metadata": {},
   "outputs": [
    {
     "name": "stderr",
     "output_type": "stream",
     "text": [
      "                                                                                \r"
     ]
    },
    {
     "name": "stdout",
     "output_type": "stream",
     "text": [
      "+-----+\n",
      "|DR_NO|\n",
      "+-----+\n",
      "+-----+\n",
      "\n"
     ]
    }
   ],
   "source": [
    "# check for duplicates\n",
    "# check if record number is unique or now\n",
    "subquery_dup = crime_df.\\\n",
    "groupBy(\"DR_NO\")\\\n",
    ".agg(count(\"*\").alias(\"crime_cnt\"))\n",
    "\n",
    "result_dup = subquery_dup.\\\n",
    "filter(\"crime_cnt > 1\")\\\n",
    ".select(\"DR_NO\")\\\n",
    ".distinct()\n",
    "\n",
    "result_dup.show()\n"
   ]
  },
  {
   "cell_type": "code",
   "execution_count": 5,
   "id": "36792e0c",
   "metadata": {},
   "outputs": [],
   "source": [
    "# data source = https://catalog.data.gov/dataset/crime-data-from-2020-to-present\n",
    "# the dataset has which years data?\n",
    "# Which crime saw the most increase in 2021 compared to 2020?\n",
    "# A year has four seasons: Winter: Jan - Mar; Spring: Apr - Jun; Summer: Jul - Sep; Fall: Oct - Dec\n",
    "# what are the top three crime by each season? Do analysis for 2022.\n",
    "# What are the top three crimes faced by this age bracket in 2022:\n",
    "# 20-29; 30-39; 40-49; 50-59\n",
    "# Give the top 3 crimes at STREET premise for years 2020 - 2023?"
   ]
  },
  {
   "cell_type": "code",
   "execution_count": 6,
   "id": "4d0e9e8f",
   "metadata": {},
   "outputs": [
    {
     "name": "stderr",
     "output_type": "stream",
     "text": [
      "[Stage 7:=====>                                                    (1 + 9) / 10]\r"
     ]
    },
    {
     "name": "stdout",
     "output_type": "stream",
     "text": [
      "+-------------+\n",
      "|years_present|\n",
      "+-------------+\n",
      "|         2020|\n",
      "|         2021|\n",
      "|         2022|\n",
      "|         2023|\n",
      "+-------------+\n",
      "\n"
     ]
    },
    {
     "name": "stderr",
     "output_type": "stream",
     "text": [
      "                                                                                \r"
     ]
    }
   ],
   "source": [
    "# the dataset has which years data?\n",
    "years_df = crime_df.withColumn(\"date_formatted1\", to_timestamp(\"DATE OCC\", \"MM/dd/yyyy hh:mm:ss a\")\n",
    "                              )\n",
    "years_present = years_df.select(year(\"date_formatted1\").alias(\"years_present\")).distinct()\n",
    "years_present.show(10)"
   ]
  },
  {
   "cell_type": "code",
   "execution_count": 7,
   "id": "f3533ffd",
   "metadata": {},
   "outputs": [
    {
     "name": "stdout",
     "output_type": "stream",
     "text": [
      "root\n",
      " |-- DR_NO: integer (nullable = true)\n",
      " |-- Date Rptd: string (nullable = true)\n",
      " |-- DATE OCC: string (nullable = true)\n",
      " |-- TIME OCC: integer (nullable = true)\n",
      " |-- AREA: integer (nullable = true)\n",
      " |-- AREA NAME: string (nullable = true)\n",
      " |-- Rpt Dist No: integer (nullable = true)\n",
      " |-- Part 1-2: integer (nullable = true)\n",
      " |-- Crm Cd: integer (nullable = true)\n",
      " |-- Crm Cd Desc: string (nullable = true)\n",
      " |-- Mocodes: string (nullable = true)\n",
      " |-- Vict Age: integer (nullable = true)\n",
      " |-- Vict Sex: string (nullable = true)\n",
      " |-- Vict Descent: string (nullable = true)\n",
      " |-- Premis Cd: integer (nullable = true)\n",
      " |-- Premis Desc: string (nullable = true)\n",
      " |-- Weapon Used Cd: integer (nullable = true)\n",
      " |-- Weapon Desc: string (nullable = true)\n",
      " |-- Status: string (nullable = true)\n",
      " |-- Status Desc: string (nullable = true)\n",
      " |-- Crm Cd 1: integer (nullable = true)\n",
      " |-- Crm Cd 2: integer (nullable = true)\n",
      " |-- Crm Cd 3: integer (nullable = true)\n",
      " |-- Crm Cd 4: integer (nullable = true)\n",
      " |-- LOCATION: string (nullable = true)\n",
      " |-- Cross Street: string (nullable = true)\n",
      " |-- LAT: double (nullable = true)\n",
      " |-- LON: double (nullable = true)\n",
      " |-- date_formatted1: timestamp (nullable = true)\n",
      "\n"
     ]
    }
   ],
   "source": [
    "# crime_df.printSchema()\n",
    "years_df.printSchema()"
   ]
  },
  {
   "cell_type": "code",
   "execution_count": 8,
   "id": "f797bdc9",
   "metadata": {},
   "outputs": [
    {
     "name": "stderr",
     "output_type": "stream",
     "text": [
      "23/05/30 17:49:36 WARN package: Truncated the string representation of a plan since it was too large. This behavior can be adjusted by setting 'spark.sql.debug.maxToStringFields'.\n",
      "                                                                                \r"
     ]
    },
    {
     "name": "stdout",
     "output_type": "stream",
     "text": [
      "+----------+----------------+-------------+\n",
      "|crime_code| crime_code_desc|2021_increase|\n",
      "+----------+----------------+-------------+\n",
      "|       510|VEHICLE - STOLEN|         2899|\n",
      "+----------+----------------+-------------+\n",
      "\n"
     ]
    },
    {
     "name": "stderr",
     "output_type": "stream",
     "text": [
      "                                                                                \r"
     ]
    },
    {
     "name": "stdout",
     "output_type": "stream",
     "text": [
      "+----------+----------------+----+\n",
      "|crime_code| crime_code_desc|diff|\n",
      "+----------+----------------+----+\n",
      "|       510|VEHICLE - STOLEN|2899|\n",
      "+----------+----------------+----+\n",
      "\n"
     ]
    }
   ],
   "source": [
    "# Which crime saw the most increase in 2021 compared to 2020?\n",
    "curtailed_dataset_df = years_df.select(years_df.date_formatted1.alias(\"crime_date\"), \\\n",
    "                        \"Crm Cd\", \"Crm Cd Desc\", \"DR_NO\")\n",
    "# count the crimes\n",
    "crimes_cnt = curtailed_dataset_df\\\n",
    "        .groupBy(year(\"crime_date\").alias(\"crime_year\"), col(\"Crm Cd\").alias(\"crime_code\")\\\n",
    "                , col(\"Crm Cd Desc\").alias(\"crime_code_desc\")\\\n",
    "                )\\\n",
    "        .agg(countDistinct(col(\"DR_NO\")).alias(\"crime_cnt\"))\n",
    "# using spark sql\n",
    "crimes_cnt.createOrReplaceTempView(\"crimes_counts\")\n",
    "most_increase_2021 = spark.sql(\\\n",
    "f\"\"\"\n",
    "WITH CTE AS \n",
    "(\n",
    "SELECT\n",
    "A.crime_year,\n",
    "A.crime_code,\n",
    "A.crime_code_desc,\n",
    "(A.crime_cnt - B.crime_cnt) as diff\n",
    "FROM crimes_counts A\n",
    "JOIN crimes_counts B ON A.crime_year-1 = B.crime_year AND B.crime_code = A.crime_code\n",
    "WHERE A.crime_year = 2021\n",
    ")\n",
    "\n",
    "SELECT \n",
    "crime_code,\n",
    "crime_code_desc,\n",
    "diff as 2021_increase\n",
    "FROM CTE\n",
    "ORDER BY diff DESC\n",
    "LIMIT 1\n",
    "\"\"\")\n",
    "most_increase_2021.show()\n",
    "\n",
    "# in pyspark\n",
    "cte = crimes_cnt.alias(\"A\").join(crimes_cnt.alias(\"B\"), \n",
    "                                   ((col(\"A.crime_year\") - 1) == col(\"B.crime_year\")) & (col(\"A.crime_code\") == col(\"B.crime_code\")), \n",
    "                                   \"inner\") \\\n",
    "    .where(col(\"A.crime_year\") == 2021) \\\n",
    "    .select(col(\"A.crime_year\"), \n",
    "            col(\"A.crime_code\"), \n",
    "            col(\"A.crime_code_desc\"), \n",
    "            (col(\"A.crime_cnt\") - col(\"B.crime_cnt\")).alias(\"diff\"))\n",
    "\n",
    "result = cte.select(\"crime_code\", \"crime_code_desc\", \"diff\")\\\n",
    ".orderBy(col(\"diff\").desc())\\\n",
    ".limit(1)\n",
    "\n",
    "result.show()"
   ]
  },
  {
   "cell_type": "code",
   "execution_count": 9,
   "id": "a04d16a2",
   "metadata": {},
   "outputs": [
    {
     "name": "stderr",
     "output_type": "stream",
     "text": [
      "[Stage 34:=============================================>           (8 + 2) / 10]\r"
     ]
    },
    {
     "name": "stdout",
     "output_type": "stream",
     "text": [
      "+------+----------+--------------------+----------+\n",
      "|season|crime_code|     crime_code_desc|crimes_cnt|\n",
      "+------+----------+--------------------+----------+\n",
      "|  fall|       510|    VEHICLE - STOLEN|      6869|\n",
      "|  fall|       624|BATTERY - SIMPLE ...|      4112|\n",
      "|  fall|       330|BURGLARY FROM VEH...|      3888|\n",
      "|spring|       510|    VEHICLE - STOLEN|      5437|\n",
      "|spring|       624|BATTERY - SIMPLE ...|      3958|\n",
      "|spring|       740|VANDALISM - FELON...|      3391|\n",
      "|summer|       510|    VEHICLE - STOLEN|      5844|\n",
      "|summer|       624|BATTERY - SIMPLE ...|      4641|\n",
      "|summer|       740|VANDALISM - FELON...|      3824|\n",
      "|winter|       510|    VEHICLE - STOLEN|      5512|\n",
      "|winter|       624|BATTERY - SIMPLE ...|      3477|\n",
      "|winter|       330|BURGLARY FROM VEH...|      3167|\n",
      "+------+----------+--------------------+----------+\n",
      "\n"
     ]
    },
    {
     "name": "stderr",
     "output_type": "stream",
     "text": [
      "                                                                                \r"
     ]
    }
   ],
   "source": [
    "# A year has four seasons: Winter: Jan - Mar; Spring: Apr - Jun; Summer: Jul - Sep; Fall: Oct - Dec\n",
    "# what are the top three crime by each season? Do analysis for 2022\n",
    "formatted_dataset_df = years_df.select(years_df.date_formatted1.alias(\"crime_date\"),\\\n",
    "                                    col(\"Crm Cd\").alias(\"crime_code\"), col(\"Crm Cd Desc\").alias(\"crime_code_desc\"),\\\n",
    "                                       \"DR_NO\")\n",
    "\n",
    "formatted_dataset_df.createOrReplaceTempView(\"dataset\")\n",
    "# in spark sql\n",
    "query = spark.sql(f\"\"\"\n",
    "WITH CTE AS \n",
    "(\n",
    "SELECT \n",
    "month(crime_date) as crime_month,\n",
    "CASE \n",
    "WHEN month(crime_date) < 4 THEN 'winter'\n",
    "WHEN month(crime_date) > 3 and month(crime_date) < 7 THEN 'spring'\n",
    "WHEN month(crime_date) > 6 and month(crime_date) < 10 THEN 'summer'\n",
    "ELSE 'fall' END as season,\n",
    "DR_NO,\n",
    "crime_code,\n",
    "crime_code_desc \n",
    "FROM dataset\n",
    "WHERE year(crime_date) = 2021\n",
    ")\n",
    "\n",
    "SELECT\n",
    "season,\n",
    "crime_code,\n",
    "crime_code_desc,\n",
    "crimes_cnt\n",
    "FROM \n",
    "(\n",
    "SELECT \n",
    "season,\n",
    "crime_code,\n",
    "crime_code_desc,\n",
    "DENSE_RANK() OVER (PARTITION BY season ORDER BY COUNT(DISTINCT DR_NO) DESC) AS crimes_rnk,\n",
    "COUNT(DISTINCT DR_NO) AS crimes_cnt\n",
    "FROM CTE\n",
    "GROUP BY 1,2,3\n",
    ") temp\n",
    "WHERE crimes_rnk < 4\n",
    "ORDER BY 1,crimes_rnk ASC\n",
    "\"\"\")\n",
    "query.show()"
   ]
  },
  {
   "cell_type": "code",
   "execution_count": 10,
   "id": "62d41b9b",
   "metadata": {},
   "outputs": [
    {
     "name": "stderr",
     "output_type": "stream",
     "text": [
      "[Stage 44:=============================================>           (8 + 2) / 10]\r"
     ]
    },
    {
     "name": "stdout",
     "output_type": "stream",
     "text": [
      "+------+----------+--------------------+---------+\n",
      "|season|crime_code|     crime_code_desc|crime_cnt|\n",
      "+------+----------+--------------------+---------+\n",
      "|  fall|       510|    VEHICLE - STOLEN|     6869|\n",
      "|  fall|       624|BATTERY - SIMPLE ...|     4112|\n",
      "|  fall|       330|BURGLARY FROM VEH...|     3888|\n",
      "|spring|       510|    VEHICLE - STOLEN|     5437|\n",
      "|spring|       624|BATTERY - SIMPLE ...|     3958|\n",
      "|spring|       740|VANDALISM - FELON...|     3391|\n",
      "|summer|       510|    VEHICLE - STOLEN|     5844|\n",
      "|summer|       624|BATTERY - SIMPLE ...|     4641|\n",
      "|summer|       740|VANDALISM - FELON...|     3824|\n",
      "|winter|       510|    VEHICLE - STOLEN|     5512|\n",
      "|winter|       624|BATTERY - SIMPLE ...|     3477|\n",
      "|winter|       330|BURGLARY FROM VEH...|     3167|\n",
      "+------+----------+--------------------+---------+\n",
      "\n"
     ]
    },
    {
     "name": "stderr",
     "output_type": "stream",
     "text": [
      "                                                                                \r"
     ]
    }
   ],
   "source": [
    "# in pyspark\n",
    "cte = formatted_dataset_df.select(month(col(\"crime_date\")).alias(\"crime_month\"),\n",
    "        when(month(col(\"crime_date\")).between(1,3), \"winter\")\n",
    "        .when(month(col(\"crime_date\")).between(4,6), \"spring\")\n",
    "        .when(month(col(\"crime_date\")).between(7,9), \"summer\")\n",
    "        .otherwise(\"fall\").alias(\"season\"),\n",
    "        col(\"DR_NO\"), col(\"crime_code\"), col(\"crime_code_desc\"))\\\n",
    ".where(year(col(\"crime_date\")) == 2021)\n",
    "\n",
    "subquery = cte.groupBy(\"season\", \"crime_code\", \"crime_code_desc\")\\\n",
    ".agg(countDistinct(\"DR_NO\").alias(\"crime_cnt\"))\n",
    "\n",
    "window_spec = Window.partitionBy(\"season\").orderBy(col(\"crime_cnt\").desc())\n",
    "subquery1 = subquery.withColumn(\"crimes_rnk\", dense_rank().over(window_spec))\n",
    "\n",
    "result = subquery1.where(col(\"crimes_rnk\") < 4)\\\n",
    ".select(\"season\", \"crime_code\", \"crime_code_desc\", \"crime_cnt\")\\\n",
    ".orderBy(\"season\", \"crimes_rnk\")\n",
    "\n",
    "result.show()\n"
   ]
  },
  {
   "cell_type": "code",
   "execution_count": 11,
   "id": "5f54e974",
   "metadata": {},
   "outputs": [
    {
     "name": "stderr",
     "output_type": "stream",
     "text": [
      "[Stage 54:=============================================>           (8 + 2) / 10]\r"
     ]
    },
    {
     "name": "stdout",
     "output_type": "stream",
     "text": [
      "+------+----------+--------------------+----------+\n",
      "|season|crime_code|     crime_code_desc|crimes_cnt|\n",
      "+------+----------+--------------------+----------+\n",
      "|  fall|       510|    VEHICLE - STOLEN|      6869|\n",
      "|  fall|       624|BATTERY - SIMPLE ...|      4112|\n",
      "|  fall|       330|BURGLARY FROM VEH...|      3888|\n",
      "|spring|       510|    VEHICLE - STOLEN|      5437|\n",
      "|spring|       624|BATTERY - SIMPLE ...|      3958|\n",
      "|spring|       740|VANDALISM - FELON...|      3391|\n",
      "|summer|       510|    VEHICLE - STOLEN|      5844|\n",
      "|summer|       624|BATTERY - SIMPLE ...|      4641|\n",
      "|summer|       740|VANDALISM - FELON...|      3824|\n",
      "|winter|       510|    VEHICLE - STOLEN|      5512|\n",
      "|winter|       624|BATTERY - SIMPLE ...|      3477|\n",
      "|winter|       330|BURGLARY FROM VEH...|      3167|\n",
      "+------+----------+--------------------+----------+\n",
      "\n"
     ]
    },
    {
     "name": "stderr",
     "output_type": "stream",
     "text": [
      "                                                                                \r"
     ]
    }
   ],
   "source": [
    "cte = formatted_dataset_df.select(month(col(\"crime_date\")).alias(\"crime_month\"),\n",
    "            when(month(col(\"crime_date\")).between(1,3), \"winter\")\\\n",
    "        .when(month(col(\"crime_date\")).between(4,6), \"spring\")\\\n",
    "        .when(month(col(\"crime_date\")).between(7,9), \"summer\")\\\n",
    "        .otherwise(\"fall\").alias(\"season\"),\n",
    "        col(\"DR_NO\"), col(\"crime_code\"), col(\"crime_code_desc\"))\\\n",
    "    .where(year(col(\"crime_date\")) == 2021)\n",
    "subquery = cte.groupBy(col(\"season\"), col(\"crime_code\"), col(\"crime_code_desc\"))\\\n",
    ".agg(countDistinct(col(\"DR_NO\")).alias(\"crimes_cnt\"))\n",
    "window_spec = Window.partitionBy(col(\"season\")).orderBy(col(\"crimes_cnt\").desc())\n",
    "subquery1 = subquery.withColumn(\"crimes_rnk\", dense_rank().over(window_spec))\n",
    "result = subquery1.where(col(\"crimes_rnk\") < 4)\\\n",
    ".select(\"season\", \"crime_code\", \"crime_code_desc\", \"crimes_cnt\")\\\n",
    ".orderBy(\"season\", \"crimes_rnk\")\n",
    "\n",
    "result.show()"
   ]
  },
  {
   "cell_type": "code",
   "execution_count": 12,
   "id": "7ab87e1d",
   "metadata": {},
   "outputs": [
    {
     "name": "stderr",
     "output_type": "stream",
     "text": [
      "[Stage 64:==================================>                      (6 + 4) / 10]\r"
     ]
    },
    {
     "name": "stdout",
     "output_type": "stream",
     "text": [
      "+-----------+----------+--------------------+---------+\n",
      "|age_bracket|crime_code|     crime_code_desc|crime_cnt|\n",
      "+-----------+----------+--------------------+---------+\n",
      "|      20-29|       354|   THEFT OF IDENTITY|     4678|\n",
      "|      20-29|       330|BURGLARY FROM VEH...|     4059|\n",
      "|      20-29|       624|BATTERY - SIMPLE ...|     3877|\n",
      "|      30-39|       354|   THEFT OF IDENTITY|     7126|\n",
      "|      30-39|       330|BURGLARY FROM VEH...|     4486|\n",
      "|      30-39|       624|BATTERY - SIMPLE ...|     3995|\n",
      "|      40-49|       354|   THEFT OF IDENTITY|     4189|\n",
      "|      40-49|       624|BATTERY - SIMPLE ...|     2993|\n",
      "|      40-49|       330|BURGLARY FROM VEH...|     2447|\n",
      "|      50-59|       624|BATTERY - SIMPLE ...|     2833|\n",
      "|      50-59|       354|   THEFT OF IDENTITY|     2530|\n",
      "|      50-59|       230|ASSAULT WITH DEAD...|     1695|\n",
      "+-----------+----------+--------------------+---------+\n",
      "\n"
     ]
    },
    {
     "name": "stderr",
     "output_type": "stream",
     "text": [
      "                                                                                \r"
     ]
    }
   ],
   "source": [
    "# What are the top three crimes faced by this age bracket in 2022:\n",
    "# 20-29; 30-39; 40-49; 50-59\n",
    "age_dataset = years_df.select(years_df.date_formatted1.alias(\"crime_date\"),\\\n",
    "            col(\"Crm Cd\").alias(\"crime_code\"), col(\"Crm Cd Desc\").alias(\"crime_code_desc\"),\\\n",
    "            col(\"Vict Age\").alias(\"age\"),\"DR_NO\")\n",
    "\n",
    "filtered_dataset = age_dataset.filter(col(\"age\").between(20,59))\\\n",
    " .filter(year(col(\"crime_date\")) == 2022)\n",
    "\n",
    "# in spark sql\n",
    "filtered_dataset.createOrReplaceTempView(\"table\")\n",
    "query = spark.sql(\n",
    "f\"\"\"\n",
    "WITH CTE AS (\n",
    "SELECT \n",
    "CASE \n",
    "WHEN age between 20 and 29 THEN '20-29'\n",
    "WHEN age between 30 and 39 THEN '30-39'\n",
    "WHEN age between 40 and 49 THEN '40-49'\n",
    "ELSE '50-59' END AS age_bracket,\n",
    "crime_code,\n",
    "crime_code_desc,\n",
    "COUNT(DISTINCT DR_NO) AS crime_cnt\n",
    "FROM table\n",
    "GROUP BY 1, 2, 3\n",
    "),\n",
    "crimes_rnk AS\n",
    "(\n",
    "SELECT\n",
    "age_bracket,\n",
    "crime_code,\n",
    "crime_code_desc,\n",
    "crime_cnt,\n",
    "DENSE_RANK() OVER (PARTITION BY age_bracket ORDER BY crime_cnt DESC) AS rnk\n",
    "FROM CTE\n",
    ")\n",
    "\n",
    "SELECT \n",
    "age_bracket,\n",
    "crime_code,\n",
    "crime_code_desc,\n",
    "crime_cnt\n",
    "FROM crimes_rnk\n",
    "WHERE rnk < 4\n",
    "ORDER BY 1,4 DESC\n",
    "\"\"\")\n",
    "query.show()"
   ]
  },
  {
   "cell_type": "code",
   "execution_count": 20,
   "id": "52c83b55",
   "metadata": {},
   "outputs": [
    {
     "name": "stderr",
     "output_type": "stream",
     "text": [
      "[Stage 117:=================================>                      (6 + 4) / 10]\r"
     ]
    },
    {
     "name": "stdout",
     "output_type": "stream",
     "text": [
      "+-----------+----------+--------------------+---------+\n",
      "|age_bracket|crime_code|     crime_code_desc|crime_cnt|\n",
      "+-----------+----------+--------------------+---------+\n",
      "|      20-29|       624|BATTERY - SIMPLE ...|     3877|\n",
      "|      20-29|       330|BURGLARY FROM VEH...|     4059|\n",
      "|      20-29|       354|   THEFT OF IDENTITY|     4678|\n",
      "|      30-39|       624|BATTERY - SIMPLE ...|     3995|\n",
      "|      30-39|       330|BURGLARY FROM VEH...|     4486|\n",
      "|      30-39|       354|   THEFT OF IDENTITY|     7126|\n",
      "|      40-49|       330|BURGLARY FROM VEH...|     2447|\n",
      "|      40-49|       624|BATTERY - SIMPLE ...|     2993|\n",
      "|      40-49|       354|   THEFT OF IDENTITY|     4189|\n",
      "|      50-59|       230|ASSAULT WITH DEAD...|     1695|\n",
      "|      50-59|       354|   THEFT OF IDENTITY|     2530|\n",
      "|      50-59|       624|BATTERY - SIMPLE ...|     2833|\n",
      "+-----------+----------+--------------------+---------+\n",
      "\n"
     ]
    },
    {
     "name": "stderr",
     "output_type": "stream",
     "text": [
      "                                                                                \r"
     ]
    }
   ],
   "source": [
    "# in pyspark\n",
    "age_bracket_df = filtered_dataset.withColumn(\"age_bracket\", when(col(\"age\").between(20, 29), \"20-29\")\\\n",
    "                .when(col(\"age\").between(30, 39), \"30-39\")\\\n",
    "                .when(col(\"age\").between(40, 49), \"40-49\")\\\n",
    "                .otherwise(\"50-59\"))\n",
    "cte_df = age_bracket_df.groupBy(\"age_bracket\", \"crime_code\",\"crime_code_desc\")\\\n",
    ".agg(countDistinct(col(\"DR_NO\")).alias(\"crime_cnt\"))\n",
    "\n",
    "window_spec = Window.partitionBy(\"age_bracket\").orderBy(col(\"crime_cnt\").desc())\n",
    "\n",
    "result_df = cte_df.withColumn(\"rnk\", dense_rank().over(window_spec))\\\n",
    ".where(col(\"rnk\") < 4)\\\n",
    ".orderBy(\"age_bracket\", \"crime_cnt\")\\\n",
    ".select(\"age_bracket\",\"crime_code\",\"crime_code_desc\",\"crime_cnt\")\n",
    "\n",
    "result_df.show()"
   ]
  },
  {
   "cell_type": "code",
   "execution_count": 58,
   "id": "b2687f20",
   "metadata": {},
   "outputs": [
    {
     "name": "stdout",
     "output_type": "stream",
     "text": [
      "+------------+------------+--------------------+---------+\n",
      "|premise_code|premise_desc|   crime_description|crime_cnt|\n",
      "+------------+------------+--------------------+---------+\n",
      "|         101|      STREET|    VEHICLE - STOLEN|    26068|\n",
      "|         101|      STREET|BURGLARY FROM VEH...|     7376|\n",
      "|         101|      STREET|THEFT FROM MOTOR ...|     7142|\n",
      "+------------+------------+--------------------+---------+\n",
      "\n"
     ]
    }
   ],
   "source": [
    "# Show the top three crimes on the street for years 2022-2023\n",
    "result_df = years_df.select(\n",
    "    col(\"Premis Cd\").alias(\"premise_code\"),\n",
    "    col(\"Premis Desc\").alias(\"premise_desc\"),\n",
    "    col(\"Crm Cd Desc\").alias(\"crime_description\"),\n",
    "    col(\"DR_NO\")\n",
    ").where(\n",
    "    (year(col(\"date_formatted1\")).isin([2022, 2023])) & col(\"premise_desc\").like(\"%STREET%\")\n",
    ").groupBy(\"premise_code\", \"premise_desc\", \"crime_description\").agg(\n",
    "    countDistinct(\"DR_NO\").alias(\"crime_cnt\")\n",
    ").select(\n",
    "    \"premise_code\", \"premise_desc\", \"crime_description\", \"crime_cnt\"\n",
    ").orderBy(\n",
    "    col(\"crime_cnt\").desc()\n",
    ").limit(3)\n",
    "\n",
    "\n",
    "# Show the top three crimes on the street\n",
    "result_df.show()"
   ]
  },
  {
   "cell_type": "code",
   "execution_count": null,
   "id": "39bbd875",
   "metadata": {},
   "outputs": [],
   "source": []
  }
 ],
 "metadata": {
  "kernelspec": {
   "display_name": "Python 3 (ipykernel)",
   "language": "python",
   "name": "python3"
  },
  "language_info": {
   "codemirror_mode": {
    "name": "ipython",
    "version": 3
   },
   "file_extension": ".py",
   "mimetype": "text/x-python",
   "name": "python",
   "nbconvert_exporter": "python",
   "pygments_lexer": "ipython3",
   "version": "3.11.3"
  }
 },
 "nbformat": 4,
 "nbformat_minor": 5
}
