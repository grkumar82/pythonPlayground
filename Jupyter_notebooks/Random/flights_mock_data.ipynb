{
 "cells": [
  {
   "cell_type": "code",
   "execution_count": null,
   "id": "83ae8a72",
   "metadata": {},
   "outputs": [],
   "source": [
    "# test flight data from Mockaroo, limited to 1k rows\n",
    "# Calculate number of flights by date\n",
    "# Calculate most popular destination by number of flights to that airport\n",
    "# What is the avg age of passenger\n",
    "# What is the median ticket price\n",
    "# give the top 5 nationalities of passengers who have traveled\n",
    "\n",
    "\n"
   ]
  },
  {
   "cell_type": "code",
   "execution_count": 28,
   "id": "963fbe1c",
   "metadata": {},
   "outputs": [],
   "source": [
    "from pyspark.sql import *\n",
    "from pyspark.sql.types import *\n",
    "from pyspark.sql.functions import *\n",
    "from pyspark.sql import functions as F\n"
   ]
  },
  {
   "cell_type": "code",
   "execution_count": 29,
   "id": "a30632a4",
   "metadata": {},
   "outputs": [],
   "source": [
    "flights = \"MOCK_DATA.json\""
   ]
  },
  {
   "cell_type": "code",
   "execution_count": 30,
   "id": "cfe2bcf4",
   "metadata": {},
   "outputs": [],
   "source": [
    "spark = SparkSession.builder.appName(\"sample_flight_data\").getOrCreate()"
   ]
  },
  {
   "cell_type": "code",
   "execution_count": 32,
   "id": "a06a2a81",
   "metadata": {},
   "outputs": [
    {
     "data": {
      "text/plain": [
       "1000"
      ]
     },
     "execution_count": 32,
     "metadata": {},
     "output_type": "execute_result"
    }
   ],
   "source": [
    "flights_df = spark.read.format(\"json\").option(\"inferSchema\", \"true\").load(flights)\n",
    "flights_df.count()           "
   ]
  },
  {
   "cell_type": "code",
   "execution_count": 48,
   "id": "ea212154",
   "metadata": {},
   "outputs": [
    {
     "name": "stdout",
     "output_type": "stream",
     "text": [
      "root\n",
      " |-- _corrupt_record: string (nullable = true)\n",
      " |-- aircraft_type: string (nullable = true)\n",
      " |-- airline_name: string (nullable = true)\n",
      " |-- arrival_airport: string (nullable = true)\n",
      " |-- arrival_date: string (nullable = true)\n",
      " |-- arrival_time: string (nullable = true)\n",
      " |-- baggage_weight: double (nullable = true)\n",
      " |-- departure_airport: string (nullable = true)\n",
      " |-- departure_date: string (nullable = true)\n",
      " |-- departure_time: string (nullable = true)\n",
      " |-- flight_duration: double (nullable = true)\n",
      " |-- flight_number: string (nullable = true)\n",
      " |-- flight_status: string (nullable = true)\n",
      " |-- passenger_age: long (nullable = true)\n",
      " |-- passenger_gender: string (nullable = true)\n",
      " |-- passenger_name: string (nullable = true)\n",
      " |-- passenger_nationality: string (nullable = true)\n",
      " |-- pilot_name: string (nullable = true)\n",
      " |-- seat_number: string (nullable = true)\n",
      " |-- ticket_price: double (nullable = true)\n",
      " |-- arrival_date_formatted: date (nullable = true)\n",
      "\n"
     ]
    }
   ],
   "source": [
    "flights_df.printSchema()"
   ]
  },
  {
   "cell_type": "code",
   "execution_count": 47,
   "id": "63842dbb",
   "metadata": {},
   "outputs": [
    {
     "data": {
      "text/plain": [
       "DataFrame[aircraft_type: string, airline_name: string, arrival_airport: string, arrival_date: string, arrival_time: string, baggage_weight: double, departure_airport: string, departure_date: string, departure_time: string, flight_duration: double, flight_number: string, flight_status: string, passenger_age: bigint, passenger_gender: string, passenger_name: string, passenger_nationality: string, pilot_name: string, seat_number: string, ticket_price: double, arrival_date_formatted: date]"
      ]
     },
     "execution_count": 47,
     "metadata": {},
     "output_type": "execute_result"
    }
   ],
   "source": [
    "# drop corrupt_record column\n",
    "flights_df.drop(\"_corrupt_record\")"
   ]
  },
  {
   "cell_type": "code",
   "execution_count": 35,
   "id": "f901b2de",
   "metadata": {},
   "outputs": [],
   "source": [
    "# flights_df = flights_df.withColumn(\"arrival_date_formatted\", to_date(flights_df['arrival_date'], 'yyyy-MM-dd'))"
   ]
  },
  {
   "cell_type": "code",
   "execution_count": 50,
   "id": "3de00d67",
   "metadata": {},
   "outputs": [
    {
     "name": "stdout",
     "output_type": "stream",
     "text": [
      "+------------+\n",
      "|arrival_date|\n",
      "+------------+\n",
      "|   9/12/2022|\n",
      "|   7/22/2022|\n",
      "|   7/30/2022|\n",
      "|   4/25/2023|\n",
      "|   3/19/2023|\n",
      "|    9/8/2022|\n",
      "|   5/11/2023|\n",
      "|    9/3/2022|\n",
      "|   9/29/2022|\n",
      "|   6/14/2022|\n",
      "|   7/19/2022|\n",
      "|    2/9/2023|\n",
      "|   7/25/2022|\n",
      "|   9/21/2022|\n",
      "|  10/18/2022|\n",
      "|   1/19/2023|\n",
      "|   4/17/2023|\n",
      "|   9/26/2022|\n",
      "|   1/26/2023|\n",
      "|   2/13/2023|\n",
      "+------------+\n",
      "only showing top 20 rows\n",
      "\n"
     ]
    }
   ],
   "source": [
    "check_date = flights_df.select(\"arrival_date\")\n",
    "check_date.show()"
   ]
  },
  {
   "cell_type": "code",
   "execution_count": 36,
   "id": "0ff2a9e7",
   "metadata": {},
   "outputs": [],
   "source": [
    "def removeDuplicates(df):\n",
    "    dup_count = df.count()\n",
    "    no_dup_count = df.distinct().count()\n",
    "    diff = dup_count - no_dup_count\n",
    "    if diff:\n",
    "        print('Duplicates present, dropping them. Count of duplicates is {diff}')\n",
    "        return df.dropDuplicates()\n",
    "    else:\n",
    "        print('no duplicates')\n",
    "        return df"
   ]
  },
  {
   "cell_type": "code",
   "execution_count": 37,
   "id": "b4d1673b",
   "metadata": {},
   "outputs": [
    {
     "name": "stdout",
     "output_type": "stream",
     "text": [
      "no duplicates\n"
     ]
    },
    {
     "data": {
      "text/plain": [
       "DataFrame[_corrupt_record: string, aircraft_type: string, airline_name: string, arrival_airport: string, arrival_date: string, arrival_time: string, baggage_weight: double, departure_airport: string, departure_date: string, departure_time: string, flight_duration: double, flight_number: string, flight_status: string, passenger_age: bigint, passenger_gender: string, passenger_name: string, passenger_nationality: string, pilot_name: string, seat_number: string, ticket_price: double, arrival_date_formatted: date]"
      ]
     },
     "execution_count": 37,
     "metadata": {},
     "output_type": "execute_result"
    }
   ],
   "source": [
    "removeDuplicates(flights_df)"
   ]
  },
  {
   "cell_type": "code",
   "execution_count": 38,
   "id": "86579bd0",
   "metadata": {},
   "outputs": [],
   "source": [
    "# drop rows where arrival_airport and arrival_date are NULL\n",
    "columns = ['arrival_airport', 'departure_airport']\n",
    "flights_df = flights_df.na.drop(subset=columns)"
   ]
  },
  {
   "cell_type": "code",
   "execution_count": 39,
   "id": "eb320036",
   "metadata": {},
   "outputs": [
    {
     "data": {
      "text/plain": [
       "999"
      ]
     },
     "execution_count": 39,
     "metadata": {},
     "output_type": "execute_result"
    }
   ],
   "source": [
    "flights_df.count()"
   ]
  },
  {
   "cell_type": "code",
   "execution_count": 43,
   "id": "9de88fc0",
   "metadata": {},
   "outputs": [],
   "source": [
    "# create temp table\n",
    "flights_df.createOrReplaceTempView(\"flights\")"
   ]
  },
  {
   "cell_type": "code",
   "execution_count": 57,
   "id": "42ae4c0a",
   "metadata": {},
   "outputs": [
    {
     "name": "stdout",
     "output_type": "stream",
     "text": [
      "+------------+-----------+\n",
      "|arrival_date|cnt_flights|\n",
      "+------------+-----------+\n",
      "|   7/25/2022|          8|\n",
      "|   2/20/2023|          8|\n",
      "|   2/26/2023|          8|\n",
      "|   1/26/2023|          8|\n",
      "|   2/28/2023|          8|\n",
      "|    5/3/2023|          8|\n",
      "|  11/24/2022|          7|\n",
      "|   9/22/2022|          7|\n",
      "|   7/28/2022|          7|\n",
      "|    1/5/2023|          7|\n",
      "|   4/23/2023|          6|\n",
      "|  11/22/2022|          6|\n",
      "|   3/23/2023|          6|\n",
      "|   9/16/2022|          6|\n",
      "|    9/4/2022|          6|\n",
      "|  12/19/2022|          6|\n",
      "|    4/9/2023|          6|\n",
      "|   8/10/2022|          6|\n",
      "|   1/21/2023|          6|\n",
      "|    3/4/2023|          6|\n",
      "+------------+-----------+\n",
      "only showing top 20 rows\n",
      "\n"
     ]
    }
   ],
   "source": [
    "# Calculate number of flights by date\n",
    "flights_by_date = spark.sql(\n",
    "                 f\"\"\"\n",
    "                SELECT arrival_date,\n",
    "                COUNT(*) AS cnt_flights\n",
    "                FROM flights\n",
    "                WHERE arrival_airport != '0'\n",
    "                GROUP BY 1\n",
    "                ORDER BY 2 DESC\n",
    "                \"\"\")\n",
    "flights_by_date.show()"
   ]
  },
  {
   "cell_type": "code",
   "execution_count": 56,
   "id": "7ee47e72",
   "metadata": {},
   "outputs": [
    {
     "name": "stdout",
     "output_type": "stream",
     "text": [
      "+---------------+-----------+\n",
      "|arrival_airport|cnt_flights|\n",
      "+---------------+-----------+\n",
      "|            EWR|          3|\n",
      "+---------------+-----------+\n",
      "\n"
     ]
    }
   ],
   "source": [
    "# Calculate most popular destination by number of flights to that airport\n",
    "most_popular_destinations = spark.sql(\n",
    "                 f\"\"\"\n",
    "                SELECT arrival_airport,\n",
    "                COUNT(*) AS cnt_flights\n",
    "                FROM flights\n",
    "                WHERE arrival_airport != '0'\n",
    "                GROUP BY 1\n",
    "                ORDER BY 2 DESC\n",
    "                LIMIT 1\n",
    "                \"\"\")\n",
    "most_popular_destinations.show()"
   ]
  },
  {
   "cell_type": "code",
   "execution_count": 60,
   "id": "5151569b",
   "metadata": {},
   "outputs": [
    {
     "name": "stdout",
     "output_type": "stream",
     "text": [
      "+-------+\n",
      "|avg_age|\n",
      "+-------+\n",
      "|   60.0|\n",
      "+-------+\n",
      "\n"
     ]
    }
   ],
   "source": [
    "# # What is the avg age of passenger\n",
    "avg_age = spark.sql(\n",
    "                 f\"\"\"\n",
    "                SELECT ROUND(AVG(passenger_age)) as avg_age\n",
    "                FROM flights\n",
    "                WHERE arrival_airport != '0'\n",
    "                AND passenger_age IS NOT NULL\n",
    "                \"\"\")\n",
    "avg_age.show()"
   ]
  },
  {
   "cell_type": "code",
   "execution_count": 61,
   "id": "29e4a56f",
   "metadata": {},
   "outputs": [
    {
     "name": "stdout",
     "output_type": "stream",
     "text": [
      "+------------+\n",
      "|median_price|\n",
      "+------------+\n",
      "|       984.0|\n",
      "+------------+\n",
      "\n"
     ]
    }
   ],
   "source": [
    "# What is the median ticket price\n",
    "median_price = spark.sql(\n",
    "                 f\"\"\"\n",
    "                SELECT ROUND(PERCENTILE_APPROX(ticket_price, 0.5)) as median_price\n",
    "                FROM flights\n",
    "                WHERE arrival_airport != '0'\n",
    "                AND ticket_price IS NOT NULL\n",
    "                \"\"\")\n",
    "median_price.show()"
   ]
  },
  {
   "cell_type": "code",
   "execution_count": 62,
   "id": "f009f047",
   "metadata": {},
   "outputs": [
    {
     "name": "stdout",
     "output_type": "stream",
     "text": [
      "+---------------------+-----------+\n",
      "|passenger_nationality|flights_cnt|\n",
      "+---------------------+-----------+\n",
      "|                China|        177|\n",
      "|            Indonesia|        105|\n",
      "|          Philippines|         54|\n",
      "|               Russia|         54|\n",
      "|               Brazil|         41|\n",
      "+---------------------+-----------+\n",
      "\n"
     ]
    }
   ],
   "source": [
    "# give the top 5 nationalities of passengers who have traveled\n",
    "top_5_nationalities = spark.sql(\n",
    "                 f\"\"\"\n",
    "                SELECT \n",
    "                passenger_nationality,\n",
    "                COUNT(*) AS flights_cnt\n",
    "                FROM flights\n",
    "                WHERE arrival_airport != '0'\n",
    "                AND passenger_nationality IS NOT NULL\n",
    "                GROUP BY 1\n",
    "                ORDER BY 2 DESC\n",
    "                LIMIT 5\n",
    "                \"\"\")\n",
    "top_5_nationalities.show()"
   ]
  }
 ],
 "metadata": {
  "kernelspec": {
   "display_name": "Python 3 (ipykernel)",
   "language": "python",
   "name": "python3"
  },
  "language_info": {
   "codemirror_mode": {
    "name": "ipython",
    "version": 3
   },
   "file_extension": ".py",
   "mimetype": "text/x-python",
   "name": "python",
   "nbconvert_exporter": "python",
   "pygments_lexer": "ipython3",
   "version": "3.11.3"
  }
 },
 "nbformat": 4,
 "nbformat_minor": 5
}
